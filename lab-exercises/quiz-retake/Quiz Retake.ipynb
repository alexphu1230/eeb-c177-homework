{
 "cells": [
  {
   "cell_type": "markdown",
   "metadata": {},
   "source": [
    "# 1. "
   ]
  },
  {
   "cell_type": "code",
   "execution_count": 3,
   "metadata": {},
   "outputs": [
    {
     "name": "stdout",
     "output_type": "stream",
     "text": [
      "[45, 4, 3.32, 'abc', 10121]\n"
     ]
    }
   ],
   "source": [
    "#A list is a data structure that has an ordered sequence of elements called items. \n",
    "#A list can be filled with different types of point values such as integers, floating point values, and strings. \n",
    "#Items within a list are placed inside square brackers \"[]\"\n",
    "\n",
    "my_list= [ 45, 4, 3.32, \"abc\", 10121]\n",
    "\n",
    "print(my_list)"
   ]
  },
  {
   "cell_type": "markdown",
   "metadata": {},
   "source": [
    "# 2. "
   ]
  },
  {
   "cell_type": "code",
   "execution_count": null,
   "metadata": {},
   "outputs": [],
   "source": [
    "#A defaultdcitionary is a type of dictionary that will default a value to a key if it has not been seen yet.\n",
    "#This is different from a regular dictionary because in a regular dictionary, you have to check if the \n",
    "#key exists before calling it, or else you'll get an error.\n"
   ]
  },
  {
   "cell_type": "markdown",
   "metadata": {},
   "source": [
    "# 3. "
   ]
  },
  {
   "cell_type": "code",
   "execution_count": 4,
   "metadata": {},
   "outputs": [],
   "source": [
    "#The answer is \"C\" because when the code in this line of code, integer values are being compared.\n",
    "#If the integer is satisfied, it will print the corresponding letter, but if not, the code will move to the next statement.\n",
    "#Since 4 is not greater than 5 and 4 does not equal 5, the code goes to the last statement and since that is true, C will be printed \n",
    "\n"
   ]
  },
  {
   "cell_type": "code",
   "execution_count": 7,
   "metadata": {},
   "outputs": [
    {
     "name": "stdout",
     "output_type": "stream",
     "text": [
      "B\n"
     ]
    }
   ],
   "source": [
    "if 4 == 5:\n",
    "    print('A')\n",
    "elif 4 < 5:\n",
    "    print('B')\n",
    "elif 4 < 5:\n",
    "    print('C')\n",
    "    \n",
    "    \n",
    "#In this manipulation of the code, I adjusted the conditional if statements which is why something else printed compared to the original code.\n",
    "#Even though the second and third if statements are both true, the code is read sequentially until an argument is satisfied\n",
    "#Since the second statement is read first, only B is printed. As the code will stop running once a statement is satisfied"
   ]
  },
  {
   "cell_type": "markdown",
   "metadata": {},
   "source": [
    "# 4a. "
   ]
  },
  {
   "cell_type": "code",
   "execution_count": 11,
   "metadata": {},
   "outputs": [],
   "source": [
    "from collections import defaultdict as dd\n",
    "\n",
    "my_dict=dd(int)\n",
    "\n",
    "#You need to import defaultdict from collections because without importing it from collections, the defaultdict function will not run \n",
    "#you set my_dict=dd(int) because you are going to use the default dictionary for counting, which requires integers to be used in the dictionary "
   ]
  },
  {
   "cell_type": "code",
   "execution_count": 12,
   "metadata": {},
   "outputs": [],
   "source": [
    "manipulated_dict=dd(str)\n",
    "\n",
    "#This dictionary is going to change and utilize a string data types which could be used if you wanted to add a set of string \n",
    "#to the dictionary values. This dictionary with this data type would not work for counting because strings cannot output integer values. "
   ]
  },
  {
   "cell_type": "markdown",
   "metadata": {},
   "source": [
    "# 4b."
   ]
  },
  {
   "cell_type": "code",
   "execution_count": 14,
   "metadata": {},
   "outputs": [
    {
     "name": "stdout",
     "output_type": "stream",
     "text": [
      "['spam', 'spam', 'spam', 'spam', 'spam', 'spam', 'eggs', 'spam']\n"
     ]
    }
   ],
   "source": [
    "food_list = 'spam spam spam spam spam spam eggs spam'\n",
    "new_food_list= food_list.split()\n",
    "print (new_food_list)\n",
    "\n",
    "#For this question, I took the current food list and used the split function to separate it at the white spaces,\n",
    "#which is why the parantheses is blank. Additionally, I stored the new list in a new variable. \n",
    "#Lastly, I printed the new variable which should contain the new list of split words. "
   ]
  },
  {
   "cell_type": "code",
   "execution_count": 16,
   "metadata": {},
   "outputs": [
    {
     "name": "stdout",
     "output_type": "stream",
     "text": [
      "['', 'pam ', 'pam ', 'pam ', 'pam ', 'pam ', 'pam egg', ' ', 'pam']\n"
     ]
    }
   ],
   "source": [
    "food_list = 'spam spam spam spam spam spam eggs spam'\n",
    "changed_food_list= food_list.split(\"s\")\n",
    "print (changed_food_list)\n",
    "\n",
    "#For the manipulation of this question, I changed the delimter value in which the string is split into a list.\n",
    "#I used the letter \"s\" instead of white spaces and when the new list is printed, it reflects that it is split at this new \n",
    "#delimiter. It is also important to note that the delimiter that you use to split is not included in the new list, as \n",
    "#the delimiter is eliminated and used as a place holder on where to split the string. "
   ]
  },
  {
   "cell_type": "markdown",
   "metadata": {},
   "source": [
    "# 4c."
   ]
  },
  {
   "cell_type": "code",
   "execution_count": 18,
   "metadata": {},
   "outputs": [
    {
     "name": "stdout",
     "output_type": "stream",
     "text": [
      "defaultdict(<class 'int'>, {'spam': 7, 'eggs': 1})\n"
     ]
    }
   ],
   "source": [
    "my_dict=dd(int)\n",
    "for words in new_food_list:\n",
    "    my_dict[words]+=1\n",
    "    \n",
    "print (my_dict)\n",
    "\n",
    "#the first line of code defintes my_dict as a default dictionary using integer data types \n",
    "#the for loop the items from new_food_list in 'words'\n",
    "#Next, all of the items stored in 'words will be used as keys in my_dict and everytime a word is repeated, the loop\n",
    "#will add one count to the value associated with the new key that is stored\n",
    "#the print of my_dict gives us the keys as the words in the list and the value as the amount of times the key is in the list. "
   ]
  },
  {
   "cell_type": "code",
   "execution_count": 21,
   "metadata": {},
   "outputs": [
    {
     "name": "stdout",
     "output_type": "stream",
     "text": [
      "This word has 4 letters\n"
     ]
    }
   ],
   "source": [
    "\n",
    "for words in new_food_list:\n",
    "    word_length= len(words)\n",
    "    first_letter=words[0]\n",
    "print('This word has ' + str(word_length) + \" letters\")"
   ]
  },
  {
   "cell_type": "markdown",
   "metadata": {},
   "source": [
    "# 5."
   ]
  },
  {
   "cell_type": "code",
   "execution_count": 31,
   "metadata": {},
   "outputs": [
    {
     "name": "stdout",
     "output_type": "stream",
     "text": [
      "['THIS', 'IS', 'MY', 'LIST', 'OF', 'WORDS']\n"
     ]
    }
   ],
   "source": [
    "words = [\"this\", \"is\", \"my\", \"list\", \"of\", \"words\"]\n",
    "bigwords= []\n",
    "for capital in words:\n",
    "    bigwords.append(capital.upper())\n",
    "print (bigwords)"
   ]
  },
  {
   "cell_type": "markdown",
   "metadata": {},
   "source": [
    "# 6. "
   ]
  },
  {
   "cell_type": "code",
   "execution_count": null,
   "metadata": {},
   "outputs": [],
   "source": [
    "#0\n",
    "#1\n",
    "#4\n",
    "#9\n",
    "#16\n",
    "#25\n",
    "#36\n",
    "#49 \n",
    "#63\n",
    "#72\n",
    "#81 \n",
    "\n",
    "#This output only generates the squared values from the range of 0 to 9 because when calling the range, the first value is included but the last value is not. \n",
    "#This means that you will get the square values not including 100 "
   ]
  }
 ],
 "metadata": {
  "kernelspec": {
   "display_name": "Python 3",
   "language": "python",
   "name": "python3"
  },
  "language_info": {
   "codemirror_mode": {
    "name": "ipython",
    "version": 3
   },
   "file_extension": ".py",
   "mimetype": "text/x-python",
   "name": "python",
   "nbconvert_exporter": "python",
   "pygments_lexer": "ipython3",
   "version": "3.7.5"
  }
 },
 "nbformat": 4,
 "nbformat_minor": 2
}
