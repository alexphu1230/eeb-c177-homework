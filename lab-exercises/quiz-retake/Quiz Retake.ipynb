{
 "cells": [
  {
   "cell_type": "markdown",
   "metadata": {},
   "source": [
    "# 1. "
   ]
  },
  {
   "cell_type": "code",
   "execution_count": 20,
   "metadata": {},
   "outputs": [
    {
     "name": "stdout",
     "output_type": "stream",
     "text": [
      "[45, 4, 3.32, 'abc', 10121]\n"
     ]
    }
   ],
   "source": [
    "#A list is a data structure that has an ordered sequence of elements called items. \n",
    "#A list can be filled with different types of point values such as integers, floating point values, and strings. \n",
    "#Items within a list are placed inside square brackers \"[]\"\n",
    "\n",
    "my_list= [ 45, 4, 3.32, \"abc\", 10121]\n",
    "\n",
    "print(my_list)"
   ]
  },
  {
   "cell_type": "code",
   "execution_count": 21,
   "metadata": {},
   "outputs": [],
   "source": [
    "manipulated_list = ['hello', 1123.323, 3, '15']\n",
    "\n",
    "#In this manipulation of the list, I wanted to show that there can be multiple data types in a list. This includes\n",
    "#numbers that can be put in quotes and saved as a string. Additionally, floats and integers can be put in a list \n",
    "#as well as strings containing letters."
   ]
  },
  {
   "cell_type": "markdown",
   "metadata": {},
   "source": [
    "# 2. "
   ]
  },
  {
   "cell_type": "code",
   "execution_count": 22,
   "metadata": {},
   "outputs": [],
   "source": [
    "#A defaultdcitionary is a type of dictionary that will default a value to a key if it has not been seen yet.\n",
    "#This is different from a regular dictionary because in a regular dictionary, you have to check if the \n",
    "#key exists before calling it, or else you'll get an error.\n"
   ]
  },
  {
   "cell_type": "markdown",
   "metadata": {},
   "source": [
    "# 3. "
   ]
  },
  {
   "cell_type": "code",
   "execution_count": 23,
   "metadata": {},
   "outputs": [],
   "source": [
    "#The answer is \"C\" because when the code in this line of code, integer values are being compared.\n",
    "#If the integer is satisfied, it will print the corresponding letter, but if not, the code will move to the next statement.\n",
    "#Since 4 is not greater than 5 and 4 does not equal 5, the code goes to the last statement and since that is true, C will be printed \n",
    "\n"
   ]
  },
  {
   "cell_type": "code",
   "execution_count": 24,
   "metadata": {},
   "outputs": [
    {
     "name": "stdout",
     "output_type": "stream",
     "text": [
      "B\n"
     ]
    }
   ],
   "source": [
    "if 4 == 5:\n",
    "    print('A')\n",
    "elif 4 < 5:\n",
    "    print('B')\n",
    "elif 4 < 5:\n",
    "    print('C')\n",
    "    \n",
    "    \n",
    "#In this manipulation of the code, I adjusted the conditional if statements which is why something else printed compared to the original code.\n",
    "#Even though the second and third if statements are both true, the code is read sequentially until an argument is satisfied\n",
    "#Since the second statement is read first, only B is printed. As the code will stop running once a statement is satisfied"
   ]
  },
  {
   "cell_type": "markdown",
   "metadata": {},
   "source": [
    "# 4a. "
   ]
  },
  {
   "cell_type": "code",
   "execution_count": 25,
   "metadata": {},
   "outputs": [],
   "source": [
    "from collections import defaultdict as dd\n",
    "\n",
    "my_dict=dd(int)\n",
    "\n",
    "#You need to import defaultdict from collections because without importing it from collections, the defaultdict function will not run \n",
    "#you set my_dict=dd(int) because you are going to use the default dictionary for counting, which requires integers to be used in the dictionary "
   ]
  },
  {
   "cell_type": "code",
   "execution_count": 26,
   "metadata": {},
   "outputs": [],
   "source": [
    "manipulated_dict=dd(str)\n",
    "\n",
    "#This dictionary is going to change and utilize a string data types which could be used if you wanted to add a set of string \n",
    "#to the dictionary values. This dictionary with this data type would not work for counting because strings cannot output integer values. "
   ]
  },
  {
   "cell_type": "markdown",
   "metadata": {},
   "source": [
    "# 4b."
   ]
  },
  {
   "cell_type": "code",
   "execution_count": 27,
   "metadata": {},
   "outputs": [
    {
     "name": "stdout",
     "output_type": "stream",
     "text": [
      "['spam', 'spam', 'spam', 'spam', 'spam', 'spam', 'eggs', 'spam']\n"
     ]
    }
   ],
   "source": [
    "food_list = 'spam spam spam spam spam spam eggs spam'\n",
    "new_food_list= food_list.split()\n",
    "print (new_food_list)\n",
    "\n",
    "#For this question, I took the current food list and used the split function to separate it at the white spaces,\n",
    "#which is why the parantheses is blank. Additionally, I stored the new list in a new variable. \n",
    "#Lastly, I printed the new variable which should contain the new list of split words. "
   ]
  },
  {
   "cell_type": "code",
   "execution_count": 28,
   "metadata": {},
   "outputs": [
    {
     "name": "stdout",
     "output_type": "stream",
     "text": [
      "['', 'pam ', 'pam ', 'pam ', 'pam ', 'pam ', 'pam egg', ' ', 'pam']\n"
     ]
    }
   ],
   "source": [
    "food_list = 'spam spam spam spam spam spam eggs spam'\n",
    "changed_food_list= food_list.split(\"s\")\n",
    "print (changed_food_list)\n",
    "\n",
    "#For the manipulation of this question, I changed the delimter value in which the string is split into a list.\n",
    "#I used the letter \"s\" instead of white spaces and when the new list is printed, it reflects that it is split at this new \n",
    "#delimiter. It is also important to note that the delimiter that you use to split is not included in the new list, as \n",
    "#the delimiter is eliminated and used as a place holder on where to split the string. "
   ]
  },
  {
   "cell_type": "markdown",
   "metadata": {},
   "source": [
    "# 4c."
   ]
  },
  {
   "cell_type": "code",
   "execution_count": 29,
   "metadata": {},
   "outputs": [
    {
     "name": "stdout",
     "output_type": "stream",
     "text": [
      "defaultdict(<class 'int'>, {'spam': 7, 'eggs': 1})\n"
     ]
    }
   ],
   "source": [
    "my_dict=dd(int)\n",
    "for words in new_food_list:\n",
    "    my_dict[words]+=1\n",
    "    \n",
    "print (my_dict)\n",
    "\n",
    "#the first line of code defintes my_dict as a default dictionary using integer data types \n",
    "#the for loop the items from new_food_list in 'words'\n",
    "#Next, all of the items stored in 'words will be used as keys in my_dict and everytime a word is repeated, the loop\n",
    "#will add one count to the value associated with the new key that is stored\n",
    "#the print of my_dict gives us the keys as the words in the list and the value as the amount of times the key is in the list. "
   ]
  },
  {
   "cell_type": "code",
   "execution_count": 30,
   "metadata": {},
   "outputs": [
    {
     "name": "stdout",
     "output_type": "stream",
     "text": [
      "This word has 4 letters\n",
      "This word has 4 letters\n",
      "This word has 4 letters\n",
      "This word has 4 letters\n",
      "This word has 4 letters\n",
      "This word has 4 letters\n",
      "This word has 4 letters\n",
      "This word has 4 letters\n"
     ]
    }
   ],
   "source": [
    "for words in new_food_list:\n",
    "    word_length= len(words)\n",
    "    print('This word has ' + str(word_length) + \" letters\")\n",
    "    \n",
    "    \n",
    "#In this manipulation of the code, I wanted to use a for loop to instead of counting the amount of times a word appears,\n",
    "#I wanted to count the letters in each word. In the for loop, I defined the variable 'word_length' and used the function len()\n",
    "#to count the length of each word. I printed the loop. This loop will iterate through each word in the list and \n",
    "#write the corresponding output with each number of letters in the word. Since each word has 4 letters and there\n",
    "#are 8 words in the list, the output prints 8 times. "
   ]
  },
  {
   "cell_type": "markdown",
   "metadata": {},
   "source": [
    "# 5."
   ]
  },
  {
   "cell_type": "code",
   "execution_count": 31,
   "metadata": {},
   "outputs": [
    {
     "name": "stdout",
     "output_type": "stream",
     "text": [
      "['THIS', 'IS', 'MY', 'LIST', 'OF', 'WORDS']\n"
     ]
    }
   ],
   "source": [
    "words = [\"this\", \"is\", \"my\", \"list\", \"of\", \"words\"]\n",
    "bigwords= []\n",
    "for capital in words:\n",
    "    bigwords.append(capital.upper())\n",
    "print (bigwords)\n",
    "\n",
    "#In this code, we have a list defined as words, as well as an empty list called big words. \n",
    "#In the for loop, all of the items in words is stored in capital. From there, all the items in capital will be \n",
    "#uppercased due to the upper function. After they are uppercased, they will be appended into the bigwords list, which \n",
    "#is empty before the new items are appended "
   ]
  },
  {
   "cell_type": "code",
   "execution_count": 32,
   "metadata": {},
   "outputs": [
    {
     "name": "stdout",
     "output_type": "stream",
     "text": [
      "['This', 'Is', 'My', 'List', 'Of', 'Words']\n"
     ]
    }
   ],
   "source": [
    "words = [\"this\", \"is\", \"my\", \"list\", \"of\", \"words\"]\n",
    "capitalwords= []\n",
    "for capital in words:\n",
    "    capitalwords.append(capital.capitalize())\n",
    "print (capitalwords)\n",
    "\n",
    "#In this code that I modified, I changed the string method to have a different effect on the list words.\n",
    "#by using .capitalize, I was able to capitalize only the first letter of each item in the list.\n",
    "#The code is read the same way as the prior loop used to capitalize the entire string, utilizing the append function \n",
    "#to create a new list of words. "
   ]
  },
  {
   "cell_type": "markdown",
   "metadata": {},
   "source": [
    "# 6. "
   ]
  },
  {
   "cell_type": "code",
   "execution_count": 33,
   "metadata": {},
   "outputs": [],
   "source": [
    "#0\n",
    "#1\n",
    "#4\n",
    "#9\n",
    "#16\n",
    "#25\n",
    "#36\n",
    "#49 \n",
    "#63\n",
    "#72\n",
    "#81 \n",
    "\n",
    "#This output only generates the squared values from the range of 0 to 9 because when calling the range, the first value is included but the last value is not. \n",
    "#This means that you will get the square values not including 100 "
   ]
  },
  {
   "cell_type": "code",
   "execution_count": 34,
   "metadata": {},
   "outputs": [
    {
     "name": "stdout",
     "output_type": "stream",
     "text": [
      "1.0\n",
      "0.5\n",
      "0.0\n",
      "0.5\n",
      "1.0\n",
      "1.5\n",
      "2.0\n",
      "2.5\n",
      "3.0\n",
      "3.5\n",
      "4.0\n",
      "4.5\n",
      "5.0\n",
      "5.5\n",
      "6.0\n"
     ]
    }
   ],
   "source": [
    "number = 15\n",
    "for y in range(number):\n",
    "    output= ((y+4)/2)-3\n",
    "    print(abs(output))\n",
    "    \n",
    "#In this manipulation of the code, I wanted to show that you can utilize multiple functions within the for loop\n",
    "#and apply them to a range of numbers. In doing this, for loops can be condensed as multiple functions can be done \n",
    "#at once. Additionally, I wanted to show that functions can still be done during the print line, as I took the \n",
    "#absolute value of all the outputs. In doing this, for loops are helpful as we can manipulate data quickly and\n",
    "#efficiently."
   ]
  },
  {
   "cell_type": "markdown",
   "metadata": {},
   "source": [
    "# 7. "
   ]
  },
  {
   "cell_type": "code",
   "execution_count": 35,
   "metadata": {},
   "outputs": [],
   "source": [
    "#a) ==\n",
    "#b) !=\n",
    "#c) >=\n",
    "#d) %"
   ]
  },
  {
   "cell_type": "code",
   "execution_count": 36,
   "metadata": {},
   "outputs": [],
   "source": [
    "#other conditionals that you could use when comparing values or any data type is also the \"<\", \">\", and '=True' statements. \n",
    "#these conditionals can also help compare values as they will see if values are less than, greater than, or if a \n",
    "#statement is true. This is helpful in combination with loops, as it allows multiple parameters to be tested \n",
    "#in case you would like to only run a loop on certain conditions."
   ]
  },
  {
   "cell_type": "markdown",
   "metadata": {},
   "source": [
    "# 8. "
   ]
  },
  {
   "cell_type": "code",
   "execution_count": 37,
   "metadata": {},
   "outputs": [],
   "source": [
    "#pop() will remove the last element of a list "
   ]
  },
  {
   "cell_type": "code",
   "execution_count": 38,
   "metadata": {},
   "outputs": [],
   "source": [
    "#although the pop function will only delete the last element of a list, we can use the clear() function to delete\n",
    "#all items in a list. This function can be useful if you wanted to reinput elements into a list or remove all \n",
    "#elements once you have worked with them. This can help keep code neat and organized instead of defining a lot of\n",
    "#lists if it is not necessary"
   ]
  },
  {
   "cell_type": "markdown",
   "metadata": {},
   "source": [
    "# 9."
   ]
  },
  {
   "cell_type": "code",
   "execution_count": 39,
   "metadata": {},
   "outputs": [
    {
     "data": {
      "text/plain": [
       "5"
      ]
     },
     "execution_count": 39,
     "metadata": {},
     "output_type": "execute_result"
    }
   ],
   "source": [
    "len(my_list)\n",
    "\n",
    "#the len() function will be used to find the length of a list. "
   ]
  },
  {
   "cell_type": "code",
   "execution_count": 40,
   "metadata": {},
   "outputs": [
    {
     "data": {
      "text/plain": [
       "[45, 4, 3.32, 'abc', 10121]"
      ]
     },
     "execution_count": 40,
     "metadata": {},
     "output_type": "execute_result"
    }
   ],
   "source": [
    "list(my_list)\n",
    "\n",
    "#You could use other functions such as the list function which will take data types and return them as a list. This\n",
    "#is useful in the case that you would like to utilize functions on a list, and store the new values in another \n",
    "#list or variable."
   ]
  },
  {
   "cell_type": "markdown",
   "metadata": {},
   "source": [
    "# Extra Credit "
   ]
  },
  {
   "cell_type": "code",
   "execution_count": 41,
   "metadata": {},
   "outputs": [
    {
     "name": "stdout",
     "output_type": "stream",
     "text": [
      "{0, 2, 4, 6, 8, 10, 12, 14, 16, 18, 20, 22, 24, 26, 28, 30, 32, 34, 36, 38, 40, 42, 44, 46, 48, 50, 52, 54, 56, 58, 60, 62, 64, 66, 68, 70, 72, 74, 76, 78, 80, 82, 84, 86, 88, 90, 92, 94, 96, 98, 100}\n"
     ]
    }
   ],
   "source": [
    "even= {number for number in range(0,101) if number%2==0}\n",
    "\n",
    "print (even)\n",
    "\n",
    "#In this loop, we are calling a for loop that will take numbers in the range of 101 and divide them by 2.\n",
    "#If the solution of the numbers in the range have a modulus of 0, the code will then store the variable in number\n",
    "#which is stored in even. This way, only even numbers are stored in even and all other numbers are discarded.\n",
    "#For the range, I added one to include the number 100, due to how the range function works of excluding the upperbound"
   ]
  },
  {
   "cell_type": "code",
   "execution_count": 42,
   "metadata": {},
   "outputs": [
    {
     "name": "stdout",
     "output_type": "stream",
     "text": [
      "{1, 3, 5, 7, 9, 11, 13, 15, 17, 19, 21, 23, 25, 27, 29, 31, 33, 35, 37, 39, 41, 43, 45, 47, 49, 51, 53, 55, 57, 59, 61, 63, 65, 67, 69, 71, 73, 75, 77, 79, 81, 83, 85, 87, 89, 91, 93, 95, 97, 99}\n"
     ]
    }
   ],
   "source": [
    "odd= {number for number in range(0,101) if number%2==1}\n",
    "\n",
    "print (odd)\n",
    "\n",
    "#In this manipulation, I utilized the same code but instead made the if statement for the modulo function equal to 1\n",
    "#Since this is changed, only odd numbers will be stored in number which is stored in the odd. "
   ]
  },
  {
   "cell_type": "code",
   "execution_count": null,
   "metadata": {},
   "outputs": [],
   "source": []
  }
 ],
 "metadata": {
  "kernelspec": {
   "display_name": "Python 3",
   "language": "python",
   "name": "python3"
  },
  "language_info": {
   "codemirror_mode": {
    "name": "ipython",
    "version": 3
   },
   "file_extension": ".py",
   "mimetype": "text/x-python",
   "name": "python",
   "nbconvert_exporter": "python",
   "pygments_lexer": "ipython3",
   "version": "3.7.5"
  }
 },
 "nbformat": 4,
 "nbformat_minor": 2
}
