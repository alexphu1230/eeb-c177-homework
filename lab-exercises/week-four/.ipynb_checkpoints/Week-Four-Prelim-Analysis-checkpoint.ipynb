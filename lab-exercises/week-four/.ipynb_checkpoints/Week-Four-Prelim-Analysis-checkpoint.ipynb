{
 "cells": [
  {
   "cell_type": "code",
   "execution_count": 5,
   "metadata": {},
   "outputs": [
    {
     "ename": "ModuleNotFoundError",
     "evalue": "No module named 'Final_Data_Set'",
     "output_type": "error",
     "traceback": [
      "\u001b[0;31m---------------------------------------------------------------------------\u001b[0m",
      "\u001b[0;31mModuleNotFoundError\u001b[0m                       Traceback (most recent call last)",
      "\u001b[0;32m<ipython-input-5-2b15a8c2f8cd>\u001b[0m in \u001b[0;36m<module>\u001b[0;34m\u001b[0m\n\u001b[0;32m----> 1\u001b[0;31m \u001b[0;32mimport\u001b[0m \u001b[0mFinal_Data_Set\u001b[0m\u001b[0;34m.\u001b[0m\u001b[0mcsv\u001b[0m\u001b[0;34m\u001b[0m\u001b[0;34m\u001b[0m\u001b[0m\n\u001b[0m",
      "\u001b[0;31mModuleNotFoundError\u001b[0m: No module named 'Final_Data_Set'"
     ]
    }
   ],
   "source": [
    "import Final_Data_Set.csv"
   ]
  },
  {
   "cell_type": "code",
   "execution_count": 6,
   "metadata": {},
   "outputs": [],
   "source": [
    "import numpy "
   ]
  },
  {
   "cell_type": "code",
   "execution_count": 7,
   "metadata": {},
   "outputs": [
    {
     "data": {
      "text/plain": [
       "array([[1.800000e+03, 6.900000e+01, 6.900000e+01, ..., 0.000000e+00,\n",
       "        0.000000e+00, 0.000000e+00],\n",
       "       [1.801000e+03, 7.300000e+01, 7.300000e+01, ..., 0.000000e+00,\n",
       "        0.000000e+00, 0.000000e+00],\n",
       "       [1.802000e+03, 7.900000e+01, 7.900000e+01, ..., 0.000000e+00,\n",
       "        0.000000e+00, 0.000000e+00],\n",
       "       ...,\n",
       "       [2.012000e+03, 1.396083e+06, 4.439040e+05, ..., 3.129000e+03,\n",
       "        4.380000e+00, 2.985900e+04],\n",
       "       [2.013000e+03, 1.406916e+06, 4.506410e+05, ..., 3.828000e+03,\n",
       "        4.380000e+00, 3.159200e+04],\n",
       "       [2.014000e+03, 1.432855e+06, 4.500470e+05, ..., 4.244000e+03,\n",
       "        4.430000e+00, 3.072200e+04]])"
      ]
     },
     "execution_count": 7,
     "metadata": {},
     "output_type": "execute_result"
    }
   ],
   "source": [
    "numpy.loadtxt(fname= 'EEB_C177_Revised_Set.csv', delimiter= ',')"
   ]
  },
  {
   "cell_type": "code",
   "execution_count": 8,
   "metadata": {},
   "outputs": [],
   "source": [
    "Data = numpy.loadtxt(fname= 'EEB_C177_Revised_Set.csv', delimiter= ',')"
   ]
  },
  {
   "cell_type": "code",
   "execution_count": 9,
   "metadata": {},
   "outputs": [
    {
     "ename": "NameError",
     "evalue": "name 'np' is not defined",
     "output_type": "error",
     "traceback": [
      "\u001b[0;31m---------------------------------------------------------------------------\u001b[0m",
      "\u001b[0;31mNameError\u001b[0m                                 Traceback (most recent call last)",
      "\u001b[0;32m<ipython-input-9-7bfdee6ffb93>\u001b[0m in \u001b[0;36m<module>\u001b[0;34m\u001b[0m\n\u001b[1;32m      2\u001b[0m \u001b[0;31m#This shows that the average CO2 Emissions from 1800-2014 was 69 thousand metric tons\u001b[0m\u001b[0;34m\u001b[0m\u001b[0;34m\u001b[0m\u001b[0;34m\u001b[0m\u001b[0m\n\u001b[1;32m      3\u001b[0m \u001b[0;34m\u001b[0m\u001b[0m\n\u001b[0;32m----> 4\u001b[0;31m \u001b[0mprint\u001b[0m \u001b[0;34m(\u001b[0m\u001b[0mnp\u001b[0m\u001b[0;34m.\u001b[0m\u001b[0mmean\u001b[0m\u001b[0;34m(\u001b[0m\u001b[0mData\u001b[0m\u001b[0;34m,\u001b[0m \u001b[0maxis\u001b[0m\u001b[0;34m=\u001b[0m\u001b[0;36m0\u001b[0m\u001b[0;34m)\u001b[0m\u001b[0;34m)\u001b[0m\u001b[0;34m\u001b[0m\u001b[0;34m\u001b[0m\u001b[0m\n\u001b[0m",
      "\u001b[0;31mNameError\u001b[0m: name 'np' is not defined"
     ]
    }
   ],
   "source": [
    "#Finding the average CO2 Emissions since the United States was Born to 2014 'Column 2'\n",
    "#This shows that the average CO2 Emissions from 1800-2014 was 69 thousand metric tons \n",
    "\n",
    "print (np.mean(Data, axis=0))"
   ]
  },
  {
   "cell_type": "code",
   "execution_count": 10,
   "metadata": {},
   "outputs": [],
   "source": [
    "import numpy as np "
   ]
  },
  {
   "cell_type": "code",
   "execution_count": 11,
   "metadata": {},
   "outputs": [],
   "source": [
    "maxval, minval= np.max(Data, axis=0), np.min(Data, axis=0)"
   ]
  },
  {
   "cell_type": "code",
   "execution_count": 12,
   "metadata": {},
   "outputs": [],
   "source": [
    "stdval= np.std(Data, axis=0)"
   ]
  },
  {
   "cell_type": "code",
   "execution_count": 13,
   "metadata": {},
   "outputs": [
    {
     "name": "stdout",
     "output_type": "stream",
     "text": [
      "max: [2.014000e+03 1.578873e+06 5.791040e+05 6.802840e+05 3.907190e+05\n",
      " 1.372300e+04 1.269900e+04 5.960000e+00 4.563000e+04] , min: [1800.   69.   69.    0.    0.    0.    0.    0.    0.] , stdev: [6.20644826e+01 5.31050982e+05 1.88930314e+05 2.40068083e+05\n",
      " 1.23388600e+05 4.47186078e+03 2.78219511e+03 2.29316976e+00\n",
      " 1.27358025e+04]\n"
     ]
    }
   ],
   "source": [
    "#This shows me the maxmimum CO2, mimimum, and standard deviation\n",
    "print ('max:' ,maxval, ', min:', minval, ', stdev:', stdval)"
   ]
  },
  {
   "cell_type": "code",
   "execution_count": 14,
   "metadata": {},
   "outputs": [
    {
     "name": "stdout",
     "output_type": "stream",
     "text": [
      "[6.20644826e+01 5.31050982e+05 1.88930314e+05 2.40068083e+05\n",
      " 1.23388600e+05 4.47186078e+03 2.78219511e+03 2.29316976e+00\n",
      " 1.27358025e+04]\n"
     ]
    }
   ],
   "source": [
    "print (stdval)"
   ]
  },
  {
   "cell_type": "code",
   "execution_count": 15,
   "metadata": {},
   "outputs": [
    {
     "ename": "SyntaxError",
     "evalue": "Missing parentheses in call to 'print'. Did you mean print(stdval)? (<ipython-input-15-9f9a827ac978>, line 1)",
     "output_type": "error",
     "traceback": [
      "\u001b[0;36m  File \u001b[0;32m\"<ipython-input-15-9f9a827ac978>\"\u001b[0;36m, line \u001b[0;32m1\u001b[0m\n\u001b[0;31m    print stdval\u001b[0m\n\u001b[0m               ^\u001b[0m\n\u001b[0;31mSyntaxError\u001b[0m\u001b[0;31m:\u001b[0m Missing parentheses in call to 'print'. Did you mean print(stdval)?\n"
     ]
    }
   ],
   "source": [
    "print stdval"
   ]
  },
  {
   "cell_type": "code",
   "execution_count": 16,
   "metadata": {},
   "outputs": [
    {
     "name": "stdout",
     "output_type": "stream",
     "text": [
      "[6.20644826e+01 5.31050982e+05 1.88930314e+05 2.40068083e+05\n",
      " 1.23388600e+05 4.47186078e+03 2.78219511e+03 2.29316976e+00\n",
      " 1.27358025e+04]\n"
     ]
    }
   ],
   "source": [
    "print(stdval)\n",
    "#standard deviation of the CO2 Emissions, and the breakdown of each category"
   ]
  },
  {
   "cell_type": "code",
   "execution_count": 20,
   "metadata": {},
   "outputs": [
    {
     "name": "stdout",
     "output_type": "stream",
     "text": [
      "476791.9069767442\n"
     ]
    }
   ],
   "source": [
    "#The mean CO2 emissions of the United States total\n",
    "print (np.mean(Data[:,1], axis=0))"
   ]
  },
  {
   "cell_type": "code",
   "execution_count": 21,
   "metadata": {},
   "outputs": [
    {
     "name": "stdout",
     "output_type": "stream",
     "text": [
      "209853.7441860465\n"
     ]
    }
   ],
   "source": [
    "#the mean CO2 emissions of the United States due to fuel consumption\n",
    "print (np.mean(Data[:,2], axis=0))"
   ]
  },
  {
   "cell_type": "code",
   "execution_count": 22,
   "metadata": {},
   "outputs": [
    {
     "name": "stdout",
     "output_type": "stream",
     "text": [
      "max: 1578873.0 , min: 69.0\n"
     ]
    }
   ],
   "source": [
    "maxval, minval= np.max(Data [:,1], axis=0), np.min(Data[:,1], axis=0)\n",
    "print ('max:' ,maxval, ', min:', minval,)\n",
    "#The maximum amount of CO2 emissions in nay one year and the minimum CO2 emissions in any one year "
   ]
  },
  {
   "cell_type": "code",
   "execution_count": null,
   "metadata": {},
   "outputs": [],
   "source": []
  }
 ],
 "metadata": {
  "kernelspec": {
   "display_name": "Python 3",
   "language": "python",
   "name": "python3"
  },
  "language_info": {
   "codemirror_mode": {
    "name": "ipython",
    "version": 3
   },
   "file_extension": ".py",
   "mimetype": "text/x-python",
   "name": "python",
   "nbconvert_exporter": "python",
   "pygments_lexer": "ipython3",
   "version": "3.7.5"
  }
 },
 "nbformat": 4,
 "nbformat_minor": 2
}
