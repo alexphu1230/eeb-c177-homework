{
 "cells": [
  {
   "cell_type": "markdown",
   "metadata": {},
   "source": [
    "# Work Collaborated with Jessica De Anda"
   ]
  },
  {
   "cell_type": "markdown",
   "metadata": {},
   "source": [
    "# 1a."
   ]
  },
  {
   "cell_type": "code",
   "execution_count": null,
   "metadata": {},
   "outputs": [],
   "source": [
    "xx = input (\"Enter Temperature Scale ex. Celsius or Fahrenheit: \")\n",
    "\n",
    "if xx== 'Celsius':\n",
    "    a= input(\"What is the temperature: \")\n",
    "    c= (float(a)-32) * 5/9\n",
    "    print (\"The temperature in celsius is {}\".format(c)) \n",
    "elif xx== \"Fahrenheit\":\n",
    "    b= input (\"what is the temperature: \")\n",
    "    d= (float(b)* 9/5) +32\n",
    "    print (\"The temperature in fahrenheit is {}\".format(d))\n",
    "    \n",
    "else:\n",
    "    print (\"{} is not a valid formatting option\".format(xx))"
   ]
  },
  {
   "cell_type": "markdown",
   "metadata": {},
   "source": [
    "# 1b."
   ]
  },
  {
   "cell_type": "code",
   "execution_count": null,
   "metadata": {},
   "outputs": [],
   "source": [
    "xx = input (\"Enter Temperature Scale ex. Celsius or Fahrenheit: \")\n",
    "\n",
    "if xx== 'Celsius':\n",
    "    a= input(\"What is the temperature: \")\n",
    "    if a.isdigit() == True:\n",
    "        c= (float(a)-32) * 5/9\n",
    "        print (\"The temperature in celsius is {}\".format(c)) \n",
    "    else:\n",
    "        print (a.isdigit())\n",
    "elif xx== \"Fahrenheit\":\n",
    "    b= input (\"what is the temperature: \")\n",
    "    if b.isdigit() == True:\n",
    "        d= (float(b)* 9/5) +32\n",
    "        print (\"The temperature in fahrenheit is {}\".format(d))\n",
    "    else:\n",
    "        print (b.isdigit())\n",
    "    \n",
    "else:\n",
    "    print (\"{} is not a valid formatting option\".format(xx))"
   ]
  },
  {
   "cell_type": "markdown",
   "metadata": {},
   "source": [
    "# 1c."
   ]
  },
  {
   "cell_type": "code",
   "execution_count": null,
   "metadata": {},
   "outputs": [],
   "source": [
    "def temperature_reader():\n",
    "    xx = input (\"Enter Temperature Scale ex. Celsius or Fahrenheit: \")\n",
    "    if xx== 'Celsius':\n",
    "        a= input(\"What is the temperature: \")\n",
    "        if a.isdigit() == True:\n",
    "            c= (float(a)-32) * 5/9\n",
    "            print (\"The temperature in celsius is {}\".format(c)) \n",
    "        else:\n",
    "            print (a.isdigit())\n",
    "    elif xx== \"Fahrenheit\":\n",
    "        b= input (\"what is the temperature: \")\n",
    "        if b.isdigit() == True:\n",
    "            d= (float(b)* 9/5) +32\n",
    "            print (\"The temperature in fahrenheit is {}\".format(d))\n",
    "        else:\n",
    "            print (b.isdigit())\n",
    "    \n",
    "    else:\n",
    "        print (\"{} is not a valid formatting option\".format(xx))"
   ]
  },
  {
   "cell_type": "code",
   "execution_count": null,
   "metadata": {},
   "outputs": [],
   "source": [
    "temperature_reader()"
   ]
  },
  {
   "cell_type": "markdown",
   "metadata": {},
   "source": [
    "# 2a."
   ]
  },
  {
   "cell_type": "code",
   "execution_count": null,
   "metadata": {},
   "outputs": [],
   "source": [
    "import os \n",
    "datapath= '/home/eebc177student/Developer/repos/CSB/python/data/'\n",
    "workingdir= '/home/eebc177student/Developer/repos/CSB/unix/sandbox'\n",
    "os.chdir(datapath)\n",
    "with open (\"Dalziel2016_data.csv\", \"r\") as ff: \n",
    "    for line in ff:\n",
    "        print (line)"
   ]
  },
  {
   "cell_type": "code",
   "execution_count": null,
   "metadata": {},
   "outputs": [],
   "source": [
    "import csv\n",
    "import sys\n",
    "\n",
    "number = '1920'\n",
    "\n",
    "csv_file = csv.reader(open('Dalziel2016_data.csv', \"r\"), delimiter=\",\")\n",
    "output_file = open('cases_in_1920.txt','w+')\n",
    "\n",
    "for column in csv_file:\n",
    "    if number == column[1]:\n",
    "        print(column)\n",
    "        data1 = column\n",
    "        for col in range(4):\n",
    "            output_file.write(data1[col] + ',')\n",
    "        output_file.write(data1[4] + '\\n')\n",
    "\n",
    "output_file.close()"
   ]
  },
  {
   "cell_type": "markdown",
   "metadata": {},
   "source": [
    "# 2b. "
   ]
  },
  {
   "cell_type": "code",
   "execution_count": null,
   "metadata": {},
   "outputs": [],
   "source": [
    "import csv\n",
    "import sys\n",
    "\n",
    "word = 'WASHINGTON'\n",
    "\n",
    "csv_file = csv.reader(open('Dalziel2016_data.csv', \"r\"), delimiter=\",\")\n",
    "output_file = open('cases_in_Washington.txt', 'w+')\n",
    "\n",
    "\n",
    "for column in csv_file:\n",
    "    if word == column[2]:\n",
    "        print (column)\n",
    "        data2= column\n",
    "        for col in range (4):\n",
    "            output_file.write(data1[col] + \",\")\n",
    "        output_file.write(data2[4] + \"\\n\")\n",
    "output_file.close()"
   ]
  },
  {
   "cell_type": "markdown",
   "metadata": {},
   "source": [
    "# 2c. "
   ]
  },
  {
   "cell_type": "code",
   "execution_count": null,
   "metadata": {},
   "outputs": [],
   "source": [
    "with open(\"Dalziel2016_data.csv\", 'r') as csvfile:\n",
    "    extraction = csv.reader(csvfile)\n",
    "    for row in extraction:\n",
    "        print (\",\".join([row[2],row[4]]))"
   ]
  },
  {
   "cell_type": "markdown",
   "metadata": {},
   "source": [
    "# 2d."
   ]
  },
  {
   "cell_type": "code",
   "execution_count": null,
   "metadata": {},
   "outputs": [],
   "source": []
  },
  {
   "cell_type": "markdown",
   "metadata": {},
   "source": [
    "# 3a."
   ]
  },
  {
   "cell_type": "code",
   "execution_count": null,
   "metadata": {},
   "outputs": [],
   "source": [
    "cities= set([])\n",
    "with open('Dalziel2016_data.csv', 'r') as csvfile: \n",
    "    extracted = csv.DictReader(csvfile)\n",
    "    for line in extracted:\n",
    "        cities.add(line['loc'])\n",
    "    print(cities)"
   ]
  },
  {
   "cell_type": "markdown",
   "metadata": {},
   "source": [
    "# 3b. "
   ]
  },
  {
   "cell_type": "code",
   "execution_count": null,
   "metadata": {},
   "outputs": [],
   "source": [
    "datacount = {} \n",
    "import csv \n",
    "with open('../data/Dalziel2016_data.csv', 'r') as f: \n",
    "    my_csv = csv.DictReader(f)\n",
    "    for line in my_csv:\n",
    "        eachcity = line['loc']\n",
    "        datacount[eachcity] = datacount.get(eachcity, 0)\n",
    "        datacount[eachcity] = datacount[eachcity] + 1"
   ]
  },
  {
   "cell_type": "code",
   "execution_count": null,
   "metadata": {},
   "outputs": [],
   "source": [
    "for city in cities:\n",
    "    print(city, datacount[eachcity])"
   ]
  },
  {
   "cell_type": "markdown",
   "metadata": {},
   "source": [
    "# 3c. "
   ]
  },
  {
   "cell_type": "code",
   "execution_count": null,
   "metadata": {},
   "outputs": [],
   "source": [
    "population = {}\n",
    "import csv \n",
    "with open('Dalziel2016_data.csv', 'r') as f:\n",
    "    my_csv = csv.DictReader(f)\n",
    "    for line in my_csv:\n",
    "        mycity = line['loc']\n",
    "        pop = float(line['pop']) \n",
    "        population[mycity] = population.get(mycity, [0,0])\n",
    "        population[mycity][0] = population[mycity][0] + pop\n",
    "        population[mycity][1] = population[mycity][1] + 1\n",
    "        \n",
    "for city in population.keys():\n",
    "    population[city][0] = population[city][0] / population[city][1]\n",
    "for city in cities:\n",
    "    print(city, population[city][0])"
   ]
  },
  {
   "cell_type": "markdown",
   "metadata": {},
   "source": [
    "# 3d. "
   ]
  },
  {
   "cell_type": "code",
   "execution_count": null,
   "metadata": {},
   "outputs": [],
   "source": [
    "cityyear = {}\n",
    "import csv \n",
    "with open('Dalziel2016_data.csv', 'r') as f: \n",
    "    my_csv = csv.DictReader(f)\n",
    "    for line in my_csv:\n",
    "        mycity = line['loc']\n",
    "        year = line['year']\n",
    "        pop = float(line['pop']) \n",
    "        cityyear[mycity] = cityyear.get(mycity, {})\n",
    "        cityyear[mycity][year] = cityyear[mycity].get(year, [0,0])\n",
    "        cityyear[mycity][year][0] = cityyear[mycity][year][0] + pop\n",
    "        cityyear[mycity][year][1] = cityyear[mycity][year][1] + 1\n",
    "        \n",
    "for city in cityyear.keys():\n",
    "    for year in cityyear[city].keys():\n",
    "        cityyear[city][year][0] = cityyear[city][year][0] / cityyear[city][year][1]\n",
    "years = list(cityyear[''].keys())\n",
    "years.sort() \n",
    "for year in years:\n",
    "    print(year, round(cityyear[''][year][0]))"
   ]
  },
  {
   "cell_type": "markdown",
   "metadata": {},
   "source": [
    "# 4. "
   ]
  },
  {
   "cell_type": "code",
   "execution_count": null,
   "metadata": {},
   "outputs": [],
   "source": []
  },
  {
   "cell_type": "code",
   "execution_count": null,
   "metadata": {},
   "outputs": [],
   "source": []
  },
  {
   "cell_type": "code",
   "execution_count": null,
   "metadata": {},
   "outputs": [],
   "source": []
  },
  {
   "cell_type": "code",
   "execution_count": null,
   "metadata": {},
   "outputs": [],
   "source": []
  },
  {
   "cell_type": "code",
   "execution_count": null,
   "metadata": {},
   "outputs": [],
   "source": []
  },
  {
   "cell_type": "code",
   "execution_count": null,
   "metadata": {},
   "outputs": [],
   "source": []
  }
 ],
 "metadata": {
  "kernelspec": {
   "display_name": "Python 3",
   "language": "python",
   "name": "python3"
  },
  "language_info": {
   "codemirror_mode": {
    "name": "ipython",
    "version": 3
   },
   "file_extension": ".py",
   "mimetype": "text/x-python",
   "name": "python",
   "nbconvert_exporter": "python",
   "pygments_lexer": "ipython3",
   "version": "3.7.5"
  }
 },
 "nbformat": 4,
 "nbformat_minor": 2
}
