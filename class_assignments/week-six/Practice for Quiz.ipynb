{
 "cells": [
  {
   "cell_type": "code",
   "execution_count": 21,
   "metadata": {},
   "outputs": [],
   "source": [
    "#To initialize a dictionary\n",
    "\n",
    "Practice= {}"
   ]
  },
  {
   "cell_type": "code",
   "execution_count": 22,
   "metadata": {},
   "outputs": [
    {
     "name": "stdout",
     "output_type": "stream",
     "text": [
      "{'Rain': 12, 'sad': 7, 'wet': 10, 'tea': 89, 'water': 90}\n"
     ]
    }
   ],
   "source": [
    "#How to add values into an empty dictionary \n",
    "Practice['Rain']=12\n",
    "Practice['sad']=7\n",
    "Practice['wet']=10\n",
    "Practice['tea']=89\n",
    "Practice['water']=90\n",
    "\n",
    "print (Practice)"
   ]
  },
  {
   "cell_type": "code",
   "execution_count": 23,
   "metadata": {},
   "outputs": [
    {
     "name": "stdout",
     "output_type": "stream",
     "text": [
      "{'moon': 12, 'wolf': 3, 'sleep': 0}\n"
     ]
    }
   ],
   "source": [
    "Night= {'moon': 12 , 'wolf' : 3, 'sleep': 0}\n",
    "print (Night)"
   ]
  },
  {
   "cell_type": "code",
   "execution_count": 24,
   "metadata": {},
   "outputs": [
    {
     "name": "stdout",
     "output_type": "stream",
     "text": [
      "{'Rain': 'moon', 'sad': 'wolf', 'wet': 'sleep'}\n"
     ]
    }
   ],
   "source": [
    "#Taking two lists/dictionaries and combining them into one \n",
    "\n",
    "Practice_Night=dict(zip(Practice,Night))\n",
    "\n",
    "print (Practice_Night)"
   ]
  },
  {
   "cell_type": "code",
   "execution_count": 25,
   "metadata": {},
   "outputs": [
    {
     "name": "stdout",
     "output_type": "stream",
     "text": [
      "{'a': '.-', 'b': '-...-', 'c': '-.-,', 'd': '-..-'}\n",
      "{'a': '.-', 'b': '-...', 'c': '-.-,', 'd': '-..-'}\n"
     ]
    }
   ],
   "source": [
    "#Initializing a dictionary with a set of values and then adding a value to a dictionary \n",
    "## and also adjusting an existing value in a dictionary \n",
    "\n",
    "m= {'a': '.-', 'b': '-...-', 'c': '-.-,'}\n",
    "\n",
    "m['d']= '-..-'\n",
    "\n",
    "print (m)\n",
    "\n",
    "m['b']= '-...'\n",
    "\n",
    "print (m)"
   ]
  },
  {
   "cell_type": "code",
   "execution_count": 26,
   "metadata": {},
   "outputs": [
    {
     "data": {
      "text/plain": [
       "12"
      ]
     },
     "execution_count": 26,
     "metadata": {},
     "output_type": "execute_result"
    }
   ],
   "source": [
    "Practice ['Rain']"
   ]
  },
  {
   "cell_type": "code",
   "execution_count": 27,
   "metadata": {},
   "outputs": [],
   "source": [
    "test= {\"Arabidopsis thaliana\": 157.0,\n",
    "\"Escherichia coli\": 4.6,\n",
    "\"Homo sapiens\": 3201.1,\n",
    "\"Saccharomyces cerevisiae\": 12.1}"
   ]
  },
  {
   "cell_type": "code",
   "execution_count": 28,
   "metadata": {},
   "outputs": [
    {
     "name": "stdout",
     "output_type": "stream",
     "text": [
      "{'Arabidopsis thaliana': 157.0, 'Escherichia coli': 4.6, 'Homo sapiens': 3201.1, 'Saccharomyces cerevisiae': 12.1}\n",
      "{}\n"
     ]
    }
   ],
   "source": [
    "#.clear will remove all keys and values from the dictionary \n",
    "print (test)\n",
    "test.clear()\n",
    "print (test)"
   ]
  },
  {
   "cell_type": "code",
   "execution_count": 29,
   "metadata": {},
   "outputs": [
    {
     "name": "stdout",
     "output_type": "stream",
     "text": [
      "Rain 12\n",
      "sad 7\n",
      "wet 10\n",
      "tea 89\n",
      "water 90\n"
     ]
    }
   ],
   "source": [
    "#This for loop example will print all of the keys and values in a dictioanry \n",
    "for keys, values in Practice.items():\n",
    "    print(keys,values)"
   ]
  },
  {
   "cell_type": "code",
   "execution_count": 30,
   "metadata": {},
   "outputs": [
    {
     "name": "stdout",
     "output_type": "stream",
     "text": [
      "its name has 4 letters\n",
      "its name has 3 letters\n",
      "its name has 7 letters\n"
     ]
    }
   ],
   "source": [
    "apes = [\"homo\", \"Pan\", \"Gorilla\"]\n",
    "for ape in apes:\n",
    "    name_length=len(ape)\n",
    "    first_letter=ape[0]\n",
    "    print(\"its name has \" + str(name_length) + \" letters\")"
   ]
  },
  {
   "cell_type": "code",
   "execution_count": 31,
   "metadata": {},
   "outputs": [
    {
     "name": "stdout",
     "output_type": "stream",
     "text": [
      "0\n",
      "1\n",
      "2\n",
      "3\n",
      "4\n",
      "5\n",
      "6\n",
      "7\n",
      "8\n",
      "9\n",
      "10\n",
      "11\n",
      "12\n",
      "13\n",
      "14\n",
      "15\n",
      "16\n",
      "17\n",
      "18\n",
      "19\n",
      "20\n",
      "21\n",
      "22\n",
      "23\n",
      "24\n",
      "25\n",
      "26\n",
      "27\n",
      "28\n",
      "29\n"
     ]
    }
   ],
   "source": [
    "for number in range (30):\n",
    "    print(number)"
   ]
  },
  {
   "cell_type": "code",
   "execution_count": 32,
   "metadata": {},
   "outputs": [],
   "source": [
    "from collections import defaultdict as dd"
   ]
  },
  {
   "cell_type": "code",
   "execution_count": 33,
   "metadata": {},
   "outputs": [],
   "source": [
    "curse_words=['fuck', 'fuck', 'fuck', 'bitch', 'shit', 'damn', 'bitch', 'shit']"
   ]
  },
  {
   "cell_type": "code",
   "execution_count": 34,
   "metadata": {},
   "outputs": [],
   "source": [
    "curse_count= dd(int)"
   ]
  },
  {
   "cell_type": "code",
   "execution_count": 35,
   "metadata": {},
   "outputs": [
    {
     "name": "stdout",
     "output_type": "stream",
     "text": [
      "defaultdict(<class 'int'>, {'fuck': 3, 'bitch': 2, 'shit': 2, 'damn': 1})\n"
     ]
    }
   ],
   "source": [
    "for words in curse_words:\n",
    "    curse_count[words]+=1\n",
    "    \n",
    "print (curse_count)"
   ]
  },
  {
   "cell_type": "code",
   "execution_count": 36,
   "metadata": {},
   "outputs": [
    {
     "data": {
      "text/plain": [
       "8"
      ]
     },
     "execution_count": 36,
     "metadata": {},
     "output_type": "execute_result"
    }
   ],
   "source": [
    "len(curse_words)"
   ]
  },
  {
   "cell_type": "code",
   "execution_count": 37,
   "metadata": {},
   "outputs": [
    {
     "data": {
      "text/plain": [
       "4"
      ]
     },
     "execution_count": 37,
     "metadata": {},
     "output_type": "execute_result"
    }
   ],
   "source": [
    "len(m)"
   ]
  },
  {
   "cell_type": "code",
   "execution_count": null,
   "metadata": {},
   "outputs": [],
   "source": []
  },
  {
   "cell_type": "code",
   "execution_count": null,
   "metadata": {},
   "outputs": [],
   "source": []
  },
  {
   "cell_type": "code",
   "execution_count": null,
   "metadata": {},
   "outputs": [],
   "source": []
  },
  {
   "cell_type": "code",
   "execution_count": null,
   "metadata": {},
   "outputs": [],
   "source": []
  }
 ],
 "metadata": {
  "kernelspec": {
   "display_name": "Python 3",
   "language": "python",
   "name": "python3"
  },
  "language_info": {
   "codemirror_mode": {
    "name": "ipython",
    "version": 3
   },
   "file_extension": ".py",
   "mimetype": "text/x-python",
   "name": "python",
   "nbconvert_exporter": "python",
   "pygments_lexer": "ipython3",
   "version": "3.7.5"
  }
 },
 "nbformat": 4,
 "nbformat_minor": 2
}
