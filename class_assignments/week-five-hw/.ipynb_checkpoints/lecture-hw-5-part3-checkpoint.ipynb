{
 "cells": [
  {
   "cell_type": "code",
   "execution_count": 1,
   "metadata": {},
   "outputs": [
    {
     "name": "stdout",
     "output_type": "stream",
     "text": [
      "Original dictionary :  {1: 2, 3: 4, 4: 3, 2: 1, 0: 0}\n",
      "Dictionary in ascending order by value :  [(0, 0), (2, 1), (1, 2), (4, 3), (3, 4)]\n",
      "Dictionary in descending order by value :  {3: 4, 4: 3, 1: 2, 2: 1, 0: 0}\n"
     ]
    }
   ],
   "source": [
    "import operator\n",
    "d = {1: 2, 3: 4, 4: 3, 2: 1, 0: 0}\n",
    "print('Original dictionary : ',d)\n",
    "sorted_d = sorted(d.items(), key=operator.itemgetter(1))\n",
    "print('Dictionary in ascending order by value : ',sorted_d)\n",
    "sorted_d = dict( sorted(d.items(), key=operator.itemgetter(1),reverse=True))\n",
    "print('Dictionary in descending order by value : ',sorted_d)\n",
    "\n",
    "#the first line imports and enables the set of operator functions \n",
    "##second line defines d as a set of dictionaries containing the values\n",
    "###third line prints original dictionary as well as the list stored in variable d\n",
    "####fourth line sets a callable and outputs everything from the dictionary d and then sorted function will sort the items from smallest to largest\n",
    "#####fifth line prints \n",
    "######sixth line will do the same as line four, but will reverse the order of the sorted items  \n",
    "#######seventh line prints line 6"
   ]
  },
  {
   "cell_type": "code",
   "execution_count": 3,
   "metadata": {},
   "outputs": [
    {
     "name": "stdout",
     "output_type": "stream",
     "text": [
      "{0: 10, 1: 20}\n",
      "{0: 10, 1: 20, 2: 30}\n"
     ]
    }
   ],
   "source": [
    "d = {0:10, 1:20}\n",
    "print(d)\n",
    "d.update({2:30})\n",
    "print(d)\n",
    "\n",
    "#line 1 defines d as a dictionary with those values \n",
    "#line 2 prints out line 1 \n",
    "#line 3 adds the {2:30} item into the variable d \n",
    "#line 4 prints line 3"
   ]
  },
  {
   "cell_type": "code",
   "execution_count": 4,
   "metadata": {},
   "outputs": [
    {
     "name": "stdout",
     "output_type": "stream",
     "text": [
      "{1: 10, 2: 20, 3: 30, 4: 40, 5: 50, 6: 60}\n"
     ]
    }
   ],
   "source": [
    "dic1={1:10, 2:20}\n",
    "dic2={3:30, 4:40}\n",
    "dic3={5:50,6:60}\n",
    "dic4 = {}\n",
    "for d in (dic1, dic2, dic3): dic4.update(d)\n",
    "print(dic4)\n",
    "#lines 1-4 defines different variables with different dictionary values \n",
    "#line 5 is a for-loop that is stored in d which has the contents of dic1, dic2, and dic3. Next, dic4 is updated with the new contents of d \n",
    "#line 6 prints dic4 "
   ]
  },
  {
   "cell_type": "code",
   "execution_count": 5,
   "metadata": {},
   "outputs": [
    {
     "name": "stdout",
     "output_type": "stream",
     "text": [
      "Key is present in the dictionary\n",
      "Key is not present in the dictionary\n"
     ]
    }
   ],
   "source": [
    "d = {1: 10, 2: 20, 3: 30, 4: 40, 5: 50, 6: 60}\n",
    "def is_key_present(x):\n",
    "  if x in d:\n",
    "      print('Key is present in the dictionary')\n",
    "  else:\n",
    "      print('Key is not present in the dictionary')\n",
    "is_key_present(5)\n",
    "is_key_present(9)\n",
    "#line 1 defines d as a dictionary with those values \n",
    "#line 2 def is the function header with name 'is_key_present(x)'\n",
    "#Next is an if statement that stores itself in x using d which says if a value of x is in the dictionary d to print \"Key is present in the dictionary\"\n",
    "#Next line is an else statement that says if x is not a value in dictionary d to print \"key is not present in the dictionary\""
   ]
  },
  {
   "cell_type": "code",
   "execution_count": 6,
   "metadata": {},
   "outputs": [
    {
     "name": "stdout",
     "output_type": "stream",
     "text": [
      "x -> 10\n",
      "y -> 20\n",
      "z -> 30\n"
     ]
    }
   ],
   "source": [
    "d = {'x': 10, 'y': 20, 'z': 30} \n",
    "for dict_key, dict_value in d.items():\n",
    "    print(dict_key,'->',dict_value)\n",
    "#a dictionary of values is stored with the variable d \n",
    "#a for loop that is stored as dict_key, will store the x,y,z within the key and will store the 10,20,30 within the dict_value\n",
    "#prints the for loop"
   ]
  },
  {
   "cell_type": "code",
   "execution_count": 7,
   "metadata": {},
   "outputs": [
    {
     "name": "stdout",
     "output_type": "stream",
     "text": [
      "Input a number 10\n",
      "{1: 1, 2: 4, 3: 9, 4: 16, 5: 25, 6: 36, 7: 49, 8: 64, 9: 81, 10: 100}\n"
     ]
    }
   ],
   "source": [
    "n=int(input(\"Input a number \"))\n",
    "d = dict()\n",
    "\n",
    "for x in range(1,n+1):\n",
    "    d[x]=x*x\n",
    "\n",
    "print(d) \n",
    "\n",
    "#n is a variable that is defined as an integer with an input following the prompt \"Input a number\"\n",
    "#d is defined as a dictionary with no values in it \n",
    "#for loop x with a range beginning at 1 and ending with value of n+1 \n",
    "#d[x] is defined as x multiplied by x \n",
    "#print d "
   ]
  },
  {
   "cell_type": "code",
   "execution_count": 8,
   "metadata": {},
   "outputs": [
    {
     "name": "stdout",
     "output_type": "stream",
     "text": [
      "{1: 1, 2: 4, 3: 9, 4: 16, 5: 25, 6: 36, 7: 49, 8: 64, 9: 81, 10: 100, 11: 121, 12: 144, 13: 169, 14: 196, 15: 225}\n"
     ]
    }
   ],
   "source": [
    "d=dict()\n",
    "for x in range(1,16):\n",
    "    d[x]=x**2\n",
    "print(d)  \n",
    "#d is a variable defined as an empty dictionary \n",
    "#for loop called x with a range of 1-16 \n",
    "#d[x] is defined as x squared \n",
    "#print d "
   ]
  },
  {
   "cell_type": "code",
   "execution_count": 9,
   "metadata": {},
   "outputs": [
    {
     "name": "stdout",
     "output_type": "stream",
     "text": [
      "{'a': 100, 'b': 200, 'x': 300, 'y': 200}\n"
     ]
    }
   ],
   "source": [
    "d1 = {'a': 100, 'b': 200}\n",
    "d2 = {'x': 300, 'y': 200}\n",
    "d = d1.copy()\n",
    "d.update(d2)\n",
    "print(d)\n",
    "#d1 and d2 are separate dictionaries with values stored in them\n",
    "#d is a variable that is stored with the dictionary copied from d1\n",
    "#d variable is then updated with the contents of dictionary d2\n",
    "#print d "
   ]
  },
  {
   "cell_type": "code",
   "execution_count": 10,
   "metadata": {},
   "outputs": [
    {
     "name": "stdout",
     "output_type": "stream",
     "text": [
      "Red corresponds to  1\n",
      "Green corresponds to  2\n",
      "Blue corresponds to  3\n"
     ]
    }
   ],
   "source": [
    "d = {'Red': 1, 'Green': 2, 'Blue': 3} \n",
    "for color_key, value in d.items():\n",
    "     print(color_key, 'corresponds to ', d[color_key]) \n",
    "#d is a dictionary that has data stored as integers as well as strings\n",
    "#for loop that stores the strings within the name 'color_key' and then will store the values within d.items()\n",
    "#prints the for loop"
   ]
  },
  {
   "cell_type": "code",
   "execution_count": 11,
   "metadata": {},
   "outputs": [
    {
     "name": "stdout",
     "output_type": "stream",
     "text": [
      "293\n"
     ]
    }
   ],
   "source": [
    "my_dict = {'data1':100,'data2':-54,'data3':247}\n",
    "print(sum(my_dict.values()))\n",
    "#my_dict is a dictionary with string and integer values \n",
    "#this prints the sum of all the values within the dictionary and the strings are not read "
   ]
  },
  {
   "cell_type": "code",
   "execution_count": null,
   "metadata": {},
   "outputs": [],
   "source": []
  }
 ],
 "metadata": {
  "kernelspec": {
   "display_name": "Python 3",
   "language": "python",
   "name": "python3"
  },
  "language_info": {
   "codemirror_mode": {
    "name": "ipython",
    "version": 3
   },
   "file_extension": ".py",
   "mimetype": "text/x-python",
   "name": "python",
   "nbconvert_exporter": "python",
   "pygments_lexer": "ipython3",
   "version": "3.7.5"
  }
 },
 "nbformat": 4,
 "nbformat_minor": 2
}
