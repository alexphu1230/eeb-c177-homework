{
 "cells": [
  {
   "cell_type": "code",
   "execution_count": 1,
   "metadata": {
    "scrolled": true
   },
   "outputs": [
    {
     "name": "stdout",
     "output_type": "stream",
     "text": [
      "['Acantholabrus_palloni', 'Labridae', 'Perciformes', '25', 'TL']\n",
      "['Achoerodus_viridis', 'Labridae', 'Perciformes', '62', 'TL']\n",
      "['Anampses_caeruleopunctatus', 'Labridae', 'Perciformes', '42', 'TL']\n",
      "['Anampses_geographicus', 'Labridae', 'Perciformes', '31', 'TL']\n",
      "['Anampses_meleagrides', 'Labridae', 'Perciformes', '22', 'TL']\n",
      "['Anampses_neoguinaicus', 'Labridae', 'Perciformes', '20', 'SL']\n",
      "['Anampses_twistii', 'Labridae', 'Perciformes', '18', 'TL']\n",
      "['Austrolabrus_maculatus', 'Labridae', 'Perciformes', '12.6', 'SL']\n",
      "['Bodianus_mesothorax', 'Labridae', 'Perciformes', '25', 'TL']\n",
      "['Bodianus_rufus', 'Labridae', 'Perciformes', '40', 'TL']\n",
      "['Bodianus_scrofa', 'Labridae', 'Perciformes', '43', 'TL']\n",
      "['Centrolabrus_caeruleus', 'Labridae', 'Perciformes', '21.5', 'SL']\n",
      "['Centrolabrus_exoletus', 'Labridae', 'Perciformes', '18', 'TL']\n",
      "['Centrolabrus_trutta', 'Labridae', 'Perciformes', '18', 'TL']\n",
      "['Cheilinus_chlorourus', 'Labridae', 'Perciformes', '45', 'TL']\n",
      "['Cheilinus_fasciatus', 'Labridae', 'Perciformes', '40', 'SL']\n",
      "['Cheilinus_oxycephalus', 'Labridae', 'Perciformes', '17', 'TL']\n",
      "['Cheilinus_trilobatus', 'Labridae', 'Perciformes', '45', 'TL']\n",
      "['Cheilinus_undulatus', 'Labridae', 'Perciformes', '229', 'SL']\n",
      "['Cheilio_inermis', 'Labridae', 'Perciformes', '50', 'SL']\n",
      "['Choerodon_anchorago', 'Labridae', 'Perciformes', '38', 'SL']\n",
      "['Choerodon_azurio', 'Labridae', 'Perciformes', '25.6', 'SL']\n",
      "['Choerodon_fasciatus', 'Labridae', 'Perciformes', '30', 'TL']\n",
      "['Choerodon_oligacanthus', 'Labridae', 'Perciformes', '28.2', 'SL']\n",
      "['Choerodon_schoenleinii', 'Labridae', 'Perciformes', '100', 'TL']\n",
      "['Cirrhilabrus_lubbocki', 'Labridae', 'Perciformes', '8', 'TL']\n",
      "['Clepticus_parrae', 'Labridae', 'Perciformes', '30', 'TL']\n",
      "['Coris_aurilineata', 'Labridae', 'Perciformes', '14', 'TL']\n",
      "['Coris_aygula', 'Labridae', 'Perciformes', '120', 'TL']\n",
      "['Coris_batuensis', 'Labridae', 'Perciformes', '17', 'TL']\n",
      "['Coris_dorsomacula', 'Labridae', 'Perciformes', '20', 'TL']\n",
      "['Coris_flavovittata', 'Labridae', 'Perciformes', '50.8', 'SL']\n",
      "['Coris_gaimard', 'Labridae', 'Perciformes', '40', 'TL']\n",
      "['Coris_julis', 'Labridae', 'Perciformes', '30', 'SL']\n",
      "['Coris_picta', 'Labridae', 'Perciformes', '25', 'TL']\n",
      "['Coris_pictoides', 'Labridae', 'Perciformes', '15', 'TL']\n",
      "['Ctenolabrus_rupestris', 'Labridae', 'Perciformes', '18', 'TL']\n",
      "['Cymolutes_praetextatus', 'Labridae', 'Perciformes', '20', 'SL']\n",
      "['Cymolutes_torquatus', 'Labridae', 'Perciformes', '20', 'TL']\n",
      "['Decodon_melasma', 'Labridae', 'Perciformes', '32.3', 'TL']\n",
      "['Diproctacanthus_xanthurus', 'Labridae', 'Perciformes', '10', 'TL']\n",
      "['Epibulus_brevis', 'Labridae', 'Perciformes', '18.5', 'SL']\n",
      "['Epibulus_insidiator', 'Labridae', 'Perciformes', '54', 'SL']\n",
      "['Gomphosus_caeruleus', 'Labridae', 'Perciformes', '30', 'TL']\n",
      "['Gomphosus_varius', 'Labridae', 'Perciformes', '30', 'SL']\n",
      "['Halichoeres_argus', 'Labridae', 'Perciformes', '12', 'TL']\n",
      "['Halichoeres_bathyphilus', 'Labridae', 'Perciformes', '23', 'TL']\n",
      "['Halichoeres_binotopsis', 'Labridae', 'Perciformes', '8.9', 'SL']\n",
      "['Halichoeres_biocellatus', 'Labridae', 'Perciformes', '12', 'TL']\n",
      "['Halichoeres_bivittatus', 'Labridae', 'Perciformes', '35', 'TL']\n",
      "['Halichoeres_brasiliensis', 'Labridae', 'Perciformes', 'NA', 'NA']\n",
      "['Halichoeres_brownfieldi', 'Labridae', 'Perciformes', '15', 'TL']\n",
      "['Halichoeres_burekae', 'Labridae', 'Perciformes', '7.7', 'SL']\n",
      "['Halichoeres_chierchiae', 'Labridae', 'Perciformes', '17.5', 'TL']\n",
      "['Halichoeres_chloropterus', 'Labridae', 'Perciformes', '19', 'SL']\n",
      "['Halichoeres_chrysus', 'Labridae', 'Perciformes', '12', 'TL']\n",
      "['Halichoeres_cyanocephalus', 'Labridae', 'Perciformes', '30', 'TL']\n",
      "['Halichoeres_dispilus', 'Labridae', 'Perciformes', '25', 'TL']\n",
      "['Halichoeres_garnoti', 'Labridae', 'Perciformes', '19.3', 'TL']\n",
      "['Halichoeres_hartzfeldii', 'Labridae', 'Perciformes', '18', 'TL']\n",
      "['Halichoeres_hortulanus', 'Labridae', 'Perciformes', '27', 'TL']\n",
      "['Halichoeres_insularis', 'Labridae', 'Perciformes', '7', 'TL']\n",
      "['Halichoeres_lapillus', 'Labridae', 'Perciformes', '14', 'TL']\n",
      "['Halichoeres_leucoxanthus', 'Labridae', 'Perciformes', '12', 'TL']\n",
      "['Halichoeres_leucurus', 'Labridae', 'Perciformes', '13', 'TL']\n",
      "['Halichoeres_maculipinna', 'Labridae', 'Perciformes', '18', 'TL']\n",
      "['Halichoeres_margaritaceus', 'Labridae', 'Perciformes', '12.5', 'SL']\n",
      "['Halichoeres_marginatus', 'Labridae', 'Perciformes', '18', 'TL']\n",
      "['Halichoeres_melanotis', 'Labridae', 'Perciformes', '13', 'TL']\n",
      "['Halichoeres_melanurus', 'Labridae', 'Perciformes', '12', 'TL']\n",
      "['Halichoeres_melasmapomus', 'Labridae', 'Perciformes', '24', 'TL']\n",
      "['Halichoeres_miniatus', 'Labridae', 'Perciformes', '12', 'TL']\n",
      "['Halichoeres_nebulosus', 'Labridae', 'Perciformes', '12', 'TL']\n",
      "['Halichoeres_nicholsi', 'Labridae', 'Perciformes', '38', 'TL']\n",
      "['Halichoeres_nigrescens', 'Labridae', 'Perciformes', '14', 'TL']\n",
      "['Halichoeres_notospilus', 'Labridae', 'Perciformes', '25.4', 'TL']\n",
      "['Halichoeres_ornatissimus', 'Labridae', 'Perciformes', '18', 'TL']\n",
      "['Halichoeres_papilionaceus', 'Labridae', 'Perciformes', '12', 'TL']\n",
      "['Halichoeres_pictus', 'Labridae', 'Perciformes', '13', 'TL']\n",
      "['Halichoeres_podostigma', 'Labridae', 'Perciformes', '18.5', 'SL']\n",
      "['Halichoeres_poeyi', 'Labridae', 'Perciformes', '20', 'TL']\n",
      "['Halichoeres_prosopeion', 'Labridae', 'Perciformes', '13', 'SL']\n",
      "['Halichoeres_radiatus', 'Labridae', 'Perciformes', '51', 'TL']\n",
      "['Halichoeres_richmondi', 'Labridae', 'Perciformes', '19', 'TL']\n",
      "['Halichoeres_rubrovirens', 'Labridae', 'Perciformes', '23.1', 'SL']\n",
      "['Halichoeres_sazimai', 'Labridae', 'Perciformes', '21.4', 'SL']\n",
      "['Halichoeres_scapularis', 'Labridae', 'Perciformes', '20', 'TL']\n",
      "['Halichoeres_semicinctus', 'Labridae', 'Perciformes', '38', 'TL']\n",
      "['Halichoeres_socialis', 'Labridae', 'Perciformes', '4.7', 'SL']\n",
      "['Halichoeres_solorensis', 'Labridae', 'Perciformes', '18', 'TL']\n",
      "['Halichoeres_trimaculatus', 'Labridae', 'Perciformes', '27', 'TL']\n",
      "['Hemigymnus_fasciatus', 'Labridae', 'Perciformes', '80', 'TL']\n",
      "['Hemigymnus_melapterus', 'Labridae', 'Perciformes', '90', 'TL']\n",
      "['Hologymnosus_annulatus', 'Labridae', 'Perciformes', '40', 'TL']\n",
      "['Hologymnosus_doliatus', 'Labridae', 'Perciformes', '50', 'TL']\n",
      "['Iniistius_aneitensis', 'Labridae', 'Perciformes', '24', 'TL']\n",
      "['Labrichthys_unilineatus', 'Labridae', 'Perciformes', '17.5', 'TL']\n",
      "['Labroides_bicolor', 'Labridae', 'Perciformes', '15', 'TL']\n",
      "['Labroides_dimidiatus', 'Labridae', 'Perciformes', '14', 'TL']\n",
      "['Labroides_rubrolabiatus', 'Labridae', 'Perciformes', '9', 'TL']\n",
      "['Labropsis_australis', 'Labridae', 'Perciformes', '10.5', 'TL']\n",
      "['Labrus_bergylta', 'Labridae', 'Perciformes', '65.9', 'TL']\n",
      "['Labrus_merula', 'Labridae', 'Perciformes', '45', 'SL']\n",
      "['Labrus_mixtus', 'Labridae', 'Perciformes', '40', 'SL']\n",
      "['Lachnolaimus_maximus', 'Labridae', 'Perciformes', '91', 'TL']\n",
      "['Lappanella_fasciata', 'Labridae', 'Perciformes', '15', 'SL']\n",
      "['Larabicus_quadrilineatus', 'Labridae', 'Perciformes', '11.5', 'TL']\n",
      "['Leptojulis_cyanopleura', 'Labridae', 'Perciformes', '13', 'TL']\n",
      "['Macropharyngodon_bipartitus_bipartitus', 'Labridae', 'Perciformes', '13', 'TL']\n",
      "['Macropharyngodon_choati', 'Labridae', 'Perciformes', '7.6', 'SL']\n",
      "['Macropharyngodon_cyanoguttatus', 'Labridae', 'Perciformes', '11.5', 'TL']\n",
      "['Macropharyngodon_geoffroy', 'Labridae', 'Perciformes', '15', 'TL']\n",
      "['Macropharyngodon_kuiteri', 'Labridae', 'Perciformes', '10', 'TL']\n",
      "['Macropharyngodon_meleagris', 'Labridae', 'Perciformes', '15', 'SL']\n",
      "['Macropharyngodon_negrosensis', 'Labridae', 'Perciformes', '12', 'TL']\n",
      "['Macropharyngodon_ornatus', 'Labridae', 'Perciformes', '13', 'TL']\n",
      "['Malapterus_reticulatus', 'Labridae', 'Perciformes', 'NA', 'NA']\n",
      "['Notolabrus_fucicola', 'Labridae', 'Perciformes', '38', 'TL']\n",
      "['Notolabrus_gymnogenis', 'Labridae', 'Perciformes', '23', 'SL']\n",
      "['Notolabrus_parilus', 'Labridae', 'Perciformes', 'NA', 'NA']\n",
      "['Notolabrus_tetricus', 'Labridae', 'Perciformes', '50', 'TL']\n",
      "['Novaculichthys_macrolepidotus', 'Labridae', 'Perciformes', '15', 'TL']\n",
      "['Novaculichthys_taeniourus', 'Labridae', 'Perciformes', '30', 'TL']\n",
      "['Ophthalmolepis_lineolata', 'Labridae', 'Perciformes', '40', 'TL']\n",
      "['Oxycheilinus_bimaculatus', 'Labridae', 'Perciformes', '15', 'TL']\n",
      "['Oxycheilinus_celebicus', 'Labridae', 'Perciformes', '24', 'TL']\n",
      "['Oxycheilinus_digramma', 'Labridae', 'Perciformes', '40', 'SL']\n",
      "['Oxycheilinus_unifasciatus', 'Labridae', 'Perciformes', '46', 'TL']\n",
      "['Oxyjulis_californica', 'Labridae', 'Perciformes', '25', 'TL']\n",
      "['Pictilabrus_laticlavius', 'Labridae', 'Perciformes', '23', 'SL']\n",
      "['Pseudocheilinus_octotaenia', 'Labridae', 'Perciformes', '14', 'SL']\n",
      "['Pseudocoris_heteroptera', 'Labridae', 'Perciformes', '20', 'TL']\n",
      "['Pseudocoris_yamashiroi', 'Labridae', 'Perciformes', '16', 'TL']\n",
      "['Pseudodax_moluccanus', 'Labridae', 'Perciformes', '30', 'TL']\n",
      "['Pseudojuloides_atavai', 'Labridae', 'Perciformes', '13', 'TL']\n",
      "['Pseudojuloides_cerasinus', 'Labridae', 'Perciformes', '12.3', 'TL']\n",
      "['Pseudolabrus_gayi', 'Labridae', 'Perciformes', '9.7', 'SL']\n",
      "['Pseudolabrus_japonicus', 'Labridae', 'Perciformes', '25', 'TL']\n",
      "['Pteragogus_cryptus', 'Labridae', 'Perciformes', '9.5', 'TL']\n",
      "['Pteragogus_enneacanthus', 'Labridae', 'Perciformes', 'NA', 'NA']\n",
      "['Semicossyphus_darwini', 'Labridae', 'Perciformes', '70', 'TL']\n",
      "['Semicossyphus_pulcher', 'Labridae', 'Perciformes', '91', 'TL']\n",
      "['Stethojulis_albovittata', 'Labridae', 'Perciformes', '14', 'TL']\n",
      "['Stethojulis_balteata', 'Labridae', 'Perciformes', '15', 'TL']\n",
      "['Stethojulis_bandanensis', 'Labridae', 'Perciformes', '15', 'TL']\n",
      "['Stethojulis_trilineata', 'Labridae', 'Perciformes', '15', 'TL']\n",
      "['Suezichthys_gracilis', 'Labridae', 'Perciformes', '16', 'TL']\n",
      "['Symphodus_bailloni', 'Labridae', 'Perciformes', '20', 'SL']\n",
      "['Symphodus_cinereus', 'Labridae', 'Perciformes', '16', 'TL']\n",
      "['Symphodus_doderleini', 'Labridae', 'Perciformes', '10', 'SL']\n",
      "['Symphodus_mediterraneus', 'Labridae', 'Perciformes', '18', 'SL']\n",
      "['Symphodus_melanocercus', 'Labridae', 'Perciformes', '14', 'TL']\n",
      "['Symphodus_melops', 'Labridae', 'Perciformes', '28', 'SL']\n",
      "['Symphodus_ocellatus', 'Labridae', 'Perciformes', '12', 'SL']\n",
      "['Symphodus_roissali', 'Labridae', 'Perciformes', '17', 'SL']\n",
      "['Symphodus_rostratus', 'Labridae', 'Perciformes', '13', 'SL']\n",
      "['Symphodus_tinca', 'Labridae', 'Perciformes', '44', 'SL']\n",
      "['Tautoga_onitis', 'Labridae', 'Perciformes', '91', 'TL']\n",
      "['Tautogolabrus_adspersus', 'Labridae', 'Perciformes', '38', 'TL']\n",
      "['Thalassoma_amblycephalum', 'Labridae', 'Perciformes', '16', 'SL']\n",
      "['Thalassoma_ascensionis', 'Labridae', 'Perciformes', '10', 'SL']\n",
      "['Thalassoma_ballieui', 'Labridae', 'Perciformes', '39.5', 'TL']\n",
      "['Thalassoma_bifasciatum', 'Labridae', 'Perciformes', '25', 'TL']\n",
      "['Thalassoma_cupido', 'Labridae', 'Perciformes', '20', 'TL']\n",
      "['Thalassoma_duperrey', 'Labridae', 'Perciformes', '28', 'TL']\n",
      "['Thalassoma_genivittatum', 'Labridae', 'Perciformes', '20', 'TL']\n",
      "['Thalassoma_hardwicke', 'Labridae', 'Perciformes', '20', 'TL']\n",
      "['Thalassoma_hebraicum', 'Labridae', 'Perciformes', '23', 'TL']\n",
      "['Thalassoma_jansenii', 'Labridae', 'Perciformes', '20', 'TL']\n",
      "['Thalassoma_loxum', 'Labridae', 'Perciformes', '18', 'TL']\n",
      "['Thalassoma_lunare', 'Labridae', 'Perciformes', '25', 'TL']\n",
      "['Thalassoma_lutescens', 'Labridae', 'Perciformes', '30', 'TL']\n",
      "['Thalassoma_newtoni', 'Labridae', 'Perciformes', 'NA', 'NA']\n",
      "['Thalassoma_noronhanum', 'Labridae', 'Perciformes', '13.3', 'SL']\n",
      "['Thalassoma_pavo', 'Labridae', 'Perciformes', '25', 'SL']\n",
      "['Thalassoma_purpureum', 'Labridae', 'Perciformes', '46', 'TL']\n",
      "['Thalassoma_quinquevittatum', 'Labridae', 'Perciformes', '17', 'TL']\n",
      "['Thalassoma_robertsoni', 'Labridae', 'Perciformes', '7.8', 'SL']\n",
      "['Thalassoma_septemfasciatum', 'Labridae', 'Perciformes', '31', 'TL']\n",
      "['Thalassoma_trilobatum', 'Labridae', 'Perciformes', '30', 'TL']\n",
      "['Wetmorella_nigropinnata', 'Labridae', 'Perciformes', '8', 'TL']\n",
      "['Xiphocheilus_typus', 'Labridae', 'Perciformes', '12', 'SL']\n",
      "['Xyrichtys_martinicensis', 'Labridae', 'Perciformes', '15', 'TL']\n",
      "['Xyrichtys_novacula', 'Labridae', 'Perciformes', '38', 'TL']\n",
      "['Xyrichtys_splendens', 'Labridae', 'Perciformes', '17.5', 'TL']\n"
     ]
    }
   ],
   "source": [
    "import csv\n",
    "import sys\n",
    "\n",
    "family= 'Labridae'\n",
    "\n",
    "csv_file= csv.reader(open('fishdata.csv', 'r'), delimiter = \",\")\n",
    "output_file= open('fishdata_labridae.csv', \"w+\")\n",
    "\n",
    "for column in csv_file:\n",
    "    if family == column [1]:\n",
    "        data2=column\n",
    "        print(data2)\n",
    "        for col in range (4):\n",
    "            output_file.write(data2[col] + \",\")\n",
    "        output_file.write(data2[4] + \"\\n\")\n",
    "\n",
    "output_file.close()"
   ]
  },
  {
   "cell_type": "code",
   "execution_count": 2,
   "metadata": {},
   "outputs": [
    {
     "name": "stdout",
     "output_type": "stream",
     "text": [
      "26.94777777777778\n"
     ]
    }
   ],
   "source": [
    "length= []\n",
    "with open(\"fishdata_labridae.csv\", 'r') as csvfile:\n",
    "    extraction = csv.reader(csvfile)\n",
    "    for row in extraction:\n",
    "        if row[3] != \"NA\" :\n",
    "            length.append(float(row[3]))\n",
    "\n",
    "            \n",
    "sum_length= sum(length)\n",
    "mean_length=(sum(length)/len(length))\n",
    "print( mean_length)"
   ]
  },
  {
   "cell_type": "code",
   "execution_count": 3,
   "metadata": {},
   "outputs": [
    {
     "name": "stdout",
     "output_type": "stream",
     "text": [
      "This String has 24 characters\n"
     ]
    }
   ],
   "source": [
    "string= \"Hello Friends and Family\"\n",
    "\n",
    "def letter_count():\n",
    "    x=len(string)\n",
    "    print(\"This String has \" + str(x) + \" characters\")\n",
    "\n",
    "    \n",
    "letter_count()"
   ]
  },
  {
   "cell_type": "markdown",
   "metadata": {},
   "source": [
    "# Lecture 2-20"
   ]
  },
  {
   "cell_type": "code",
   "execution_count": 7,
   "metadata": {},
   "outputs": [],
   "source": [
    "def strLen(ss):\n",
    "    s1= len(ss)\n",
    "    print (\"the length of the string is {}\".format(s1))"
   ]
  },
  {
   "cell_type": "code",
   "execution_count": 8,
   "metadata": {},
   "outputs": [
    {
     "name": "stdout",
     "output_type": "stream",
     "text": [
      "the length of the string is 24\n"
     ]
    }
   ],
   "source": [
    "strLen(string)"
   ]
  },
  {
   "cell_type": "code",
   "execution_count": 10,
   "metadata": {},
   "outputs": [
    {
     "name": "stdout",
     "output_type": "stream",
     "text": [
      "the length of the string is 13\n"
     ]
    }
   ],
   "source": [
    "strLen(\"water buffalo\")"
   ]
  },
  {
   "cell_type": "code",
   "execution_count": 11,
   "metadata": {},
   "outputs": [],
   "source": [
    "my_list= [\"water\", 123, \"cat\"]"
   ]
  },
  {
   "cell_type": "code",
   "execution_count": 12,
   "metadata": {},
   "outputs": [
    {
     "name": "stdout",
     "output_type": "stream",
     "text": [
      "the length of the string is 3\n"
     ]
    }
   ],
   "source": [
    "strLen(my_list)"
   ]
  },
  {
   "cell_type": "code",
   "execution_count": 83,
   "metadata": {},
   "outputs": [],
   "source": [
    "import os\n",
    "import sys\n",
    "\n",
    "def at_content(sequence):\n",
    "    x= input(\"How many significant figures: \")\n",
    "    length= len(sequence)\n",
    "    A=sequence.upper().count(\"A\")\n",
    "    T=sequence.upper().count(\"T\")\n",
    "    at_content= round((A + T)/ length, int(x))\n",
    "    return (\"The percentage of AT pairs in the sequence is \" + str(at_content))"
   ]
  },
  {
   "cell_type": "code",
   "execution_count": 84,
   "metadata": {},
   "outputs": [
    {
     "name": "stdout",
     "output_type": "stream",
     "text": [
      "How many significant figures: 12\n"
     ]
    },
    {
     "data": {
      "text/plain": [
       "'The percentage of AT pairs in the sequence is 0.692307692308'"
      ]
     },
     "execution_count": 84,
     "metadata": {},
     "output_type": "execute_result"
    }
   ],
   "source": [
    "at_content(\"ATGCGTACATGACGTATATATATATG\")"
   ]
  },
  {
   "cell_type": "code",
   "execution_count": 85,
   "metadata": {},
   "outputs": [
    {
     "name": "stdout",
     "output_type": "stream",
     "text": [
      "How many significant figures: 12\n",
      "How many significant figures: 12\n"
     ]
    },
    {
     "data": {
      "text/plain": [
       "True"
      ]
     },
     "execution_count": 85,
     "metadata": {},
     "output_type": "execute_result"
    }
   ],
   "source": [
    "Cont1=at_content(\"ATATATATATGTGTGTAGAGAGAGCACACAAT\")\n",
    "Cont2=at_content(\"ATATATGTGTGAGAGTGAAGTGATGATGTAGATGAGAT\")\n",
    "\n",
    "Cont1>Cont2"
   ]
  },
  {
   "cell_type": "code",
   "execution_count": 89,
   "metadata": {},
   "outputs": [
    {
     "name": "stdout",
     "output_type": "stream",
     "text": [
      "How many significant figures: 2\n"
     ]
    },
    {
     "data": {
      "text/plain": [
       "'The percentage of AT pairs in the sequence is 0.89'"
      ]
     },
     "execution_count": 89,
     "metadata": {},
     "output_type": "execute_result"
    }
   ],
   "source": [
    "at_content(\"atatatatatagagagatatatatatat\")"
   ]
  },
  {
   "cell_type": "code",
   "execution_count": 123,
   "metadata": {},
   "outputs": [],
   "source": [
    "def content(sequence, sig=2):\n",
    "    length= len(sequence)\n",
    "    A_count=sequence.upper().count(\"A\")\n",
    "    T_count=sequence.upper().count(\"T\")\n",
    "    length= len(sequence.strip(\"N\"))\n",
    "    base_content= round((A_count + T_count)/ length, sig)\n",
    "    return (base_content)"
   ]
  },
  {
   "cell_type": "code",
   "execution_count": 124,
   "metadata": {},
   "outputs": [
    {
     "data": {
      "text/plain": [
       "0.71"
      ]
     },
     "execution_count": 124,
     "metadata": {},
     "output_type": "execute_result"
    }
   ],
   "source": [
    "content(\"atatatgagatcgaacgatcatat\")"
   ]
  },
  {
   "cell_type": "code",
   "execution_count": 125,
   "metadata": {},
   "outputs": [],
   "source": [
    "def outOfOrder(number,pet):\n",
    "    print (\"I own {} {}s\".format(number,pet))"
   ]
  },
  {
   "cell_type": "code",
   "execution_count": 126,
   "metadata": {},
   "outputs": [
    {
     "name": "stdout",
     "output_type": "stream",
     "text": [
      "I own 3 dogs\n"
     ]
    }
   ],
   "source": [
    "outOfOrder(3,\"dog\")"
   ]
  },
  {
   "cell_type": "code",
   "execution_count": 127,
   "metadata": {},
   "outputs": [
    {
     "name": "stdout",
     "output_type": "stream",
     "text": [
      "I own 3 dogs\n",
      "I own 3 dogs\n"
     ]
    }
   ],
   "source": [
    "outOfOrder(number= 3, pet= \"dog\")\n",
    "outOfOrder(pet=\"dog\", number=3)"
   ]
  },
  {
   "cell_type": "code",
   "execution_count": 128,
   "metadata": {},
   "outputs": [],
   "source": [
    "assert content(\"ATGC\") == .50"
   ]
  },
  {
   "cell_type": "code",
   "execution_count": 129,
   "metadata": {},
   "outputs": [
    {
     "data": {
      "text/plain": [
       "True"
      ]
     },
     "execution_count": 129,
     "metadata": {},
     "output_type": "execute_result"
    }
   ],
   "source": [
    "content(\"ATGCNNNNNN\")== .50"
   ]
  },
  {
   "cell_type": "code",
   "execution_count": 131,
   "metadata": {},
   "outputs": [
    {
     "ename": "ZeroDivisionError",
     "evalue": "float division by zero",
     "output_type": "error",
     "traceback": [
      "\u001b[0;31m---------------------------------------------------------------------------\u001b[0m",
      "\u001b[0;31mZeroDivisionError\u001b[0m                         Traceback (most recent call last)",
      "\u001b[0;32m<ipython-input-131-9c9ce7e38f54>\u001b[0m in \u001b[0;36m<module>\u001b[0;34m\u001b[0m\n\u001b[1;32m      5\u001b[0m     \u001b[0;32mreturn\u001b[0m \u001b[0my\u001b[0m\u001b[0;34m\u001b[0m\u001b[0;34m\u001b[0m\u001b[0m\n\u001b[1;32m      6\u001b[0m \u001b[0;34m\u001b[0m\u001b[0m\n\u001b[0;32m----> 7\u001b[0;31m \u001b[0mcreateabug\u001b[0m\u001b[0;34m(\u001b[0m\u001b[0;36m5\u001b[0m\u001b[0;34m)\u001b[0m\u001b[0;34m\u001b[0m\u001b[0;34m\u001b[0m\u001b[0m\n\u001b[0m",
      "\u001b[0;32m<ipython-input-131-9c9ce7e38f54>\u001b[0m in \u001b[0;36mcreateabug\u001b[0;34m(x)\u001b[0m\n\u001b[1;32m      2\u001b[0m     \u001b[0my\u001b[0m\u001b[0;34m=\u001b[0m \u001b[0mx\u001b[0m\u001b[0;34m**\u001b[0m\u001b[0;36m4\u001b[0m\u001b[0;34m\u001b[0m\u001b[0;34m\u001b[0m\u001b[0m\n\u001b[1;32m      3\u001b[0m     \u001b[0mz\u001b[0m\u001b[0;34m=\u001b[0m \u001b[0;36m0.\u001b[0m\u001b[0;34m\u001b[0m\u001b[0;34m\u001b[0m\u001b[0m\n\u001b[0;32m----> 4\u001b[0;31m     \u001b[0my\u001b[0m\u001b[0;34m=\u001b[0m\u001b[0my\u001b[0m\u001b[0;34m/\u001b[0m\u001b[0mz\u001b[0m\u001b[0;34m\u001b[0m\u001b[0;34m\u001b[0m\u001b[0m\n\u001b[0m\u001b[1;32m      5\u001b[0m     \u001b[0;32mreturn\u001b[0m \u001b[0my\u001b[0m\u001b[0;34m\u001b[0m\u001b[0;34m\u001b[0m\u001b[0m\n\u001b[1;32m      6\u001b[0m \u001b[0;34m\u001b[0m\u001b[0m\n",
      "\u001b[0;31mZeroDivisionError\u001b[0m: float division by zero"
     ]
    }
   ],
   "source": [
    "def createabug(x):\n",
    "    y= x**4\n",
    "    z= 0.\n",
    "    y=y/z\n",
    "    return y\n",
    "\n",
    "createabug(5)"
   ]
  },
  {
   "cell_type": "code",
   "execution_count": null,
   "metadata": {},
   "outputs": [],
   "source": []
  }
 ],
 "metadata": {
  "kernelspec": {
   "display_name": "Python 3",
   "language": "python",
   "name": "python3"
  },
  "language_info": {
   "codemirror_mode": {
    "name": "ipython",
    "version": 3
   },
   "file_extension": ".py",
   "mimetype": "text/x-python",
   "name": "python",
   "nbconvert_exporter": "python",
   "pygments_lexer": "ipython3",
   "version": "3.7.5"
  }
 },
 "nbformat": 4,
 "nbformat_minor": 2
}
